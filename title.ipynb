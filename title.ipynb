{
 "cells": [
  {
   "cell_type": "code",
   "execution_count": 5,
   "metadata": {},
   "outputs": [
    {
     "name": "stderr",
     "output_type": "stream",
     "text": [
      "[nltk_data] Downloading package punkt to /Users/hrs/nltk_data...\n",
      "[nltk_data]   Package punkt is already up-to-date!\n"
     ]
    },
    {
     "name": "stdout",
     "output_type": "stream",
     "text": [
      "\"Archive area is 81%\" \"Archive area is 81%\"\n"
     ]
    }
   ],
   "source": [
    "from transformers import AutoTokenizer, AutoModelForSeq2SeqLM\n",
    "import nltk\n",
    "nltk.download('punkt')\n",
    "\n",
    "tokenizer = AutoTokenizer.from_pretrained(\"fabiochiu/t5-small-medium-title-generation\")\n",
    "model = AutoModelForSeq2SeqLM.from_pretrained(\"fabiochiu/t5-small-medium-title-generation\")\n",
    "\n",
    "text = \"\"\"\n",
    "\"Archive area is 81% used, indicating space issues.\",\"archFull\"\n",
    "\"Data Guard status is in error, indicating a database or instance issue.\",\"dataguard\"\n",
    "\"Database CPU time ratio is at 11.185, indicating CPU efficiency issues.\",\"instance_efficiency\"\n",
    "\"Value of count_sql_id is 10, indicating a specific metric count.\",\"ME$AM4HC-Additional-Metric-Extension\"\n",
    "\"Maximum session wait count value is 11, indicating wait issues.\",\"ME$ME_OD_DB_High_Wait_Count\"\n",
    "\"Monitoring user connection failed due to invalid password.\",\"monitoringConnectivityIssue\"\n",
    "\"Global cache average CR block request time is 1.291.\",\"rac_global_cache\"\n",
    "\"Database bdcent19 is down, reason code USER.\",\"Availability\"\n",
    "\"Alerts related to various metrics such as ASM Disk Utilization, DB Direct Read IO Performance, etc.\",\"cha_alerts\"\n",
    "\"Filesystem is nearly full on the Linux OS.\",\"Generic LINUX OS error\"\n",
    "\"Oracle data block corruption detected.\",\"adrAlertLogIncidentError\"\n",
    "\"Incident (ORA 6544 [pevm_peruws_callback-1]) detected in /u02/app/oracle/diag/rdbms/mclone_p63_bom/MCLONE1/alert/log.xml at time/line number: Fri Mar 8 14:12:11 2024/25552.\",\"adrAlertLogIncidentError\"\n",
    "\"Number of failed login attempts exceeds the threshold.\",\"audit_failed_logins\"\n",
    "\"Errors related to CSS daemon and CRS reconfiguration.\",\"clusterware_alerts\"\n",
    "\"CPU Utilization for a system is at 96.461%, crossing the warning threshold.\",\"CPUUsage\"\n",
    "\"Port Ethernet1/29 has used 100% of its bandwidth, crossing the warning threshold.\",\"Network Bandwidth Utilization - Port Saturation\"\n",
    "\"TNS-12543: TNS host unreachable.\",\"Listener Down - Destination Host Unreachable\"\n",
    "\"The listener is down due to a timeout.\",\"Listener Timeout\"\n",
    "\"The listener is down.\",\"Listener Down\"\n",
    "\"The J2EE Application is down.\",\"J2EE Application Down\"\n",
    "\"Failed to connect to the database instance.\",\"Target Down\"\n",
    "\"Failed to connect to the ASM instance.\",\"ASM Connection Failure\"\n",
    "\"TNS-1189: Please check log for details.\",\"TNS_ERRORS\"\n",
    "\"Session APRDCDB1-1045 is blocking 2 other sessions for all instances.\",\"UserBlock\"\n",
    "\"Average Users Waiting Count for event class Concurrency is at 10.081.\",\"wait_sess_cls\"\n",
    "\"Message format: Logfile:Sourcename:EventCode:CategoryString:User:EventMessage:ErrorCount\",\"Win_EventLogs\"\n",
    "\"Connection to the target was lost. The initiator will attempt to restore the connection.\",\"ICMP check failed\"\n",
    "\"Disk Device dm-2 is 87.845% busy.\",\"DiskActivity\"\n",
    "\"Disk Group RECO is 75.109% used.\",\"DiskGroup_Usage\"\n",
    "\n",
    "\"\"\"\n",
    "\n",
    "inputs = [\"summarize: \" + text]\n",
    "\n",
    "inputs = tokenizer(inputs, max_length=10, truncation=True, return_tensors=\"pt\")\n",
    "output = model.generate(**inputs, num_beams=8, do_sample=True, min_length=10, max_length=64)\n",
    "decoded_output = tokenizer.batch_decode(output, skip_special_tokens=True)[0]\n",
    "predicted_title = nltk.sent_tokenize(decoded_output.strip())[0]\n",
    "\n",
    "print(predicted_title)\n",
    "# Conversational AI: The Future of Customer Service"
   ]
  },
  {
   "cell_type": "code",
   "execution_count": 7,
   "metadata": {},
   "outputs": [
    {
     "name": "stderr",
     "output_type": "stream",
     "text": [
      "[nltk_data] Downloading package punkt to /Users/hrs/nltk_data...\n",
      "[nltk_data]   Package punkt is already up-to-date!\n"
     ]
    },
    {
     "name": "stdout",
     "output_type": "stream",
     "text": [
      "['Computer Science', 'Software Development', 'Digital', 'Engineering', 'Code', 'Technology', 'Tech', 'Developer', 'Database', 'Data Engineering', 'Science', 'Software Engineering', 'Data', 'Sql', 'Coding', 'Software', 'Programming']\n"
     ]
    }
   ],
   "source": [
    "from transformers import AutoTokenizer, AutoModelForSeq2SeqLM\n",
    "import nltk\n",
    "nltk.download('punkt')\n",
    "\n",
    "tokenizer = AutoTokenizer.from_pretrained(\"fabiochiu/t5-base-tag-generation\")\n",
    "model = AutoModelForSeq2SeqLM.from_pretrained(\"fabiochiu/t5-base-tag-generation\")\n",
    "\n",
    "text = \"\"\"\n",
    "\"Archive area is 81% used, indicating space issues.\",\"archFull\"\n",
    "\"Data Guard status is in error, indicating a database or instance issue.\",\"dataguard\"\n",
    "\"Database CPU time ratio is at 11.185, indicating CPU efficiency issues.\",\"instance_efficiency\"\n",
    "\"Value of count_sql_id is 10, indicating a specific metric count.\",\"ME$AM4HC-Additional-Metric-Extension\"\n",
    "\"Maximum session wait count value is 11, indicating wait issues.\",\"ME$ME_OD_DB_High_Wait_Count\"\n",
    "\"Monitoring user connection failed due to invalid password.\",\"monitoringConnectivityIssue\"\n",
    "\"Global cache average CR block request time is 1.291.\",\"rac_global_cache\"\n",
    "\"Database bdcent19 is down, reason code USER.\",\"Availability\"\n",
    "\"Alerts related to various metrics such as ASM Disk Utilization, DB Direct Read IO Performance, etc.\",\"cha_alerts\"\n",
    "\"Filesystem is nearly full on the Linux OS.\",\"Generic LINUX OS error\"\n",
    "\"Oracle data block corruption detected.\",\"adrAlertLogIncidentError\"\n",
    "\"Incident (ORA 6544 [pevm_peruws_callback-1]) detected in /u02/app/oracle/diag/rdbms/mclone_p63_bom/MCLONE1/alert/log.xml at time/line number: Fri Mar 8 14:12:11 2024/25552.\",\"adrAlertLogIncidentError\"\n",
    "\"Number of failed login attempts exceeds the threshold.\",\"audit_failed_logins\"\n",
    "\"Errors related to CSS daemon and CRS reconfiguration.\",\"clusterware_alerts\"\n",
    "\"CPU Utilization for a system is at 96.461%, crossing the warning threshold.\",\"CPUUsage\"\n",
    "\"Port Ethernet1/29 has used 100% of its bandwidth, crossing the warning threshold.\",\"Network Bandwidth Utilization - Port Saturation\"\n",
    "\"TNS-12543: TNS host unreachable.\",\"Listener Down - Destination Host Unreachable\"\n",
    "\"The listener is down due to a timeout.\",\"Listener Timeout\"\n",
    "\"The listener is down.\",\"Listener Down\"\n",
    "\"The J2EE Application is down.\",\"J2EE Application Down\"\n",
    "\"Failed to connect to the database instance.\",\"Target Down\"\n",
    "\"Failed to connect to the ASM instance.\",\"ASM Connection Failure\"\n",
    "\"TNS-1189: Please check log for details.\",\"TNS_ERRORS\"\n",
    "\"Session APRDCDB1-1045 is blocking 2 other sessions for all instances.\",\"UserBlock\"\n",
    "\"Average Users Waiting Count for event class Concurrency is at 10.081.\",\"wait_sess_cls\"\n",
    "\"Message format: Logfile:Sourcename:EventCode:CategoryString:User:EventMessage:ErrorCount\",\"Win_EventLogs\"\n",
    "\"Connection to the target was lost. The initiator will attempt to restore the connection.\",\"ICMP check failed\"\n",
    "\"Disk Device dm-2 is 87.845% busy.\",\"DiskActivity\"\n",
    "\"Disk Group RECO is 75.109% used.\",\"DiskGroup_Usage\"\n",
    "\"\"\"\n",
    "\n",
    "inputs = tokenizer([text], max_length=512, truncation=True, return_tensors=\"pt\")\n",
    "output = model.generate(**inputs, num_beams=8, do_sample=True, min_length=10,\n",
    "                        max_length=64)\n",
    "decoded_output = tokenizer.batch_decode(output, skip_special_tokens=True)[0]\n",
    "tags = list(set(decoded_output.strip().split(\", \")))\n",
    "\n",
    "print(tags)\n",
    "# ['Programming', 'Code', 'Software Development', 'Programming Languages',\n",
    "#  'Software', 'Developer', 'Python', 'Software Engineering', 'Science',\n",
    "#  'Engineering', 'Technology', 'Computer Science', 'Coding', 'Digital', 'Tech',\n",
    "#  'Python Programming']\n"
   ]
  },
  {
   "cell_type": "code",
   "execution_count": null,
   "metadata": {},
   "outputs": [],
   "source": []
  }
 ],
 "metadata": {
  "kernelspec": {
   "display_name": "venv",
   "language": "python",
   "name": "python3"
  },
  "language_info": {
   "codemirror_mode": {
    "name": "ipython",
    "version": 3
   },
   "file_extension": ".py",
   "mimetype": "text/x-python",
   "name": "python",
   "nbconvert_exporter": "python",
   "pygments_lexer": "ipython3",
   "version": "3.9.6"
  }
 },
 "nbformat": 4,
 "nbformat_minor": 2
}
